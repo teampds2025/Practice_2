{
 "cells": [
  {
   "cell_type": "code",
   "id": "initial_id",
   "metadata": {
    "collapsed": true,
    "ExecuteTime": {
     "end_time": "2025-04-10T07:07:03.372257Z",
     "start_time": "2025-04-10T07:07:03.367253Z"
    }
   },
   "source": [
    "import pandas as pd\n",
    "import re\n",
    "import nltk\n",
    "from nltk.corpus import stopwords\n",
    "from nltk.stem import WordNetLemmatizer\n",
    "from nltk.tokenize import word_tokenize\n",
    "from sklearn.feature_extraction.text import TfidfVectorizer\n",
    "from sklearn.decomposition import TruncatedSVD\n",
    "import ftfy\n",
    "import pickle\n",
    "from datetime import datetime"
   ],
   "outputs": [],
   "execution_count": 96
  },
  {
   "metadata": {
    "ExecuteTime": {
     "end_time": "2025-04-10T07:07:04.019889Z",
     "start_time": "2025-04-10T07:07:03.757128Z"
    }
   },
   "cell_type": "code",
   "source": "df = pd.read_csv(\"isw_reports.csv\")",
   "id": "e508ad315976972",
   "outputs": [],
   "execution_count": 97
  },
  {
   "metadata": {
    "ExecuteTime": {
     "end_time": "2025-04-10T07:07:04.161443Z",
     "start_time": "2025-04-10T07:07:04.150435Z"
    }
   },
   "cell_type": "code",
   "source": "df",
   "id": "72182201065e7d40",
   "outputs": [
    {
     "data": {
      "text/plain": [
       "            date                                        report_text  \\\n",
       "0     2022-02-24  Mason Clark, George Barros, and Kateryna Stepa...   \n",
       "1     2022-02-25  Mason Clark, George Barros, and Kateryna Stepa...   \n",
       "2     2022-02-26  Mason Clark, George Barros, and Katya Stepanen...   \n",
       "3     2022-02-27  Mason Clark, George Barros, and Kateryna Stepa...   \n",
       "4     2022-02-28  Mason Clark, George Barros, and Kateryna Stepa...   \n",
       "...          ...                                                ...   \n",
       "1087  2025-02-25  Russian Offensive Campaign Assessment, Februar...   \n",
       "1088  2025-02-26  Russian Offensive Campaign Assessment, Februar...   \n",
       "1089  2025-02-27  Russian Offensive Campaign Assessment, Februar...   \n",
       "1090  2025-02-28  Russian Offensive Campaign Assessment, Februar...   \n",
       "1091  2025-03-01  Russian Offensive Campaign Assessment, March 1...   \n",
       "\n",
       "                                                    url  \n",
       "0     https://www.understandingwar.org/backgrounder/...  \n",
       "1     https://www.understandingwar.org/backgrounder/...  \n",
       "2     https://www.understandingwar.org/backgrounder/...  \n",
       "3     https://www.understandingwar.org/backgrounder/...  \n",
       "4     https://www.understandingwar.org/backgrounder/...  \n",
       "...                                                 ...  \n",
       "1087  https://www.understandingwar.org/backgrounder/...  \n",
       "1088  https://www.understandingwar.org/backgrounder/...  \n",
       "1089  https://www.understandingwar.org/backgrounder/...  \n",
       "1090  https://www.understandingwar.org/backgrounder/...  \n",
       "1091  https://www.understandingwar.org/backgrounder/...  \n",
       "\n",
       "[1092 rows x 3 columns]"
      ],
      "text/html": [
       "<div>\n",
       "<style scoped>\n",
       "    .dataframe tbody tr th:only-of-type {\n",
       "        vertical-align: middle;\n",
       "    }\n",
       "\n",
       "    .dataframe tbody tr th {\n",
       "        vertical-align: top;\n",
       "    }\n",
       "\n",
       "    .dataframe thead th {\n",
       "        text-align: right;\n",
       "    }\n",
       "</style>\n",
       "<table border=\"1\" class=\"dataframe\">\n",
       "  <thead>\n",
       "    <tr style=\"text-align: right;\">\n",
       "      <th></th>\n",
       "      <th>date</th>\n",
       "      <th>report_text</th>\n",
       "      <th>url</th>\n",
       "    </tr>\n",
       "  </thead>\n",
       "  <tbody>\n",
       "    <tr>\n",
       "      <th>0</th>\n",
       "      <td>2022-02-24</td>\n",
       "      <td>Mason Clark, George Barros, and Kateryna Stepa...</td>\n",
       "      <td>https://www.understandingwar.org/backgrounder/...</td>\n",
       "    </tr>\n",
       "    <tr>\n",
       "      <th>1</th>\n",
       "      <td>2022-02-25</td>\n",
       "      <td>Mason Clark, George Barros, and Kateryna Stepa...</td>\n",
       "      <td>https://www.understandingwar.org/backgrounder/...</td>\n",
       "    </tr>\n",
       "    <tr>\n",
       "      <th>2</th>\n",
       "      <td>2022-02-26</td>\n",
       "      <td>Mason Clark, George Barros, and Katya Stepanen...</td>\n",
       "      <td>https://www.understandingwar.org/backgrounder/...</td>\n",
       "    </tr>\n",
       "    <tr>\n",
       "      <th>3</th>\n",
       "      <td>2022-02-27</td>\n",
       "      <td>Mason Clark, George Barros, and Kateryna Stepa...</td>\n",
       "      <td>https://www.understandingwar.org/backgrounder/...</td>\n",
       "    </tr>\n",
       "    <tr>\n",
       "      <th>4</th>\n",
       "      <td>2022-02-28</td>\n",
       "      <td>Mason Clark, George Barros, and Kateryna Stepa...</td>\n",
       "      <td>https://www.understandingwar.org/backgrounder/...</td>\n",
       "    </tr>\n",
       "    <tr>\n",
       "      <th>...</th>\n",
       "      <td>...</td>\n",
       "      <td>...</td>\n",
       "      <td>...</td>\n",
       "    </tr>\n",
       "    <tr>\n",
       "      <th>1087</th>\n",
       "      <td>2025-02-25</td>\n",
       "      <td>Russian Offensive Campaign Assessment, Februar...</td>\n",
       "      <td>https://www.understandingwar.org/backgrounder/...</td>\n",
       "    </tr>\n",
       "    <tr>\n",
       "      <th>1088</th>\n",
       "      <td>2025-02-26</td>\n",
       "      <td>Russian Offensive Campaign Assessment, Februar...</td>\n",
       "      <td>https://www.understandingwar.org/backgrounder/...</td>\n",
       "    </tr>\n",
       "    <tr>\n",
       "      <th>1089</th>\n",
       "      <td>2025-02-27</td>\n",
       "      <td>Russian Offensive Campaign Assessment, Februar...</td>\n",
       "      <td>https://www.understandingwar.org/backgrounder/...</td>\n",
       "    </tr>\n",
       "    <tr>\n",
       "      <th>1090</th>\n",
       "      <td>2025-02-28</td>\n",
       "      <td>Russian Offensive Campaign Assessment, Februar...</td>\n",
       "      <td>https://www.understandingwar.org/backgrounder/...</td>\n",
       "    </tr>\n",
       "    <tr>\n",
       "      <th>1091</th>\n",
       "      <td>2025-03-01</td>\n",
       "      <td>Russian Offensive Campaign Assessment, March 1...</td>\n",
       "      <td>https://www.understandingwar.org/backgrounder/...</td>\n",
       "    </tr>\n",
       "  </tbody>\n",
       "</table>\n",
       "<p>1092 rows × 3 columns</p>\n",
       "</div>"
      ]
     },
     "execution_count": 98,
     "metadata": {},
     "output_type": "execute_result"
    }
   ],
   "execution_count": 98
  },
  {
   "metadata": {
    "ExecuteTime": {
     "end_time": "2025-04-10T07:07:04.687320Z",
     "start_time": "2025-04-10T07:07:04.684016Z"
    }
   },
   "cell_type": "code",
   "source": "# 1. QUALITY CHECKS",
   "id": "2d6d094acb00680",
   "outputs": [],
   "execution_count": 99
  },
  {
   "metadata": {
    "ExecuteTime": {
     "end_time": "2025-04-10T07:07:05.151175Z",
     "start_time": "2025-04-10T07:07:05.144659Z"
    }
   },
   "cell_type": "code",
   "source": "df['date'] = pd.to_datetime(df['date'])",
   "id": "17b6770edc82c725",
   "outputs": [],
   "execution_count": 100
  },
  {
   "metadata": {
    "ExecuteTime": {
     "end_time": "2025-04-10T07:07:05.304400Z",
     "start_time": "2025-04-10T07:07:05.300348Z"
    }
   },
   "cell_type": "code",
   "source": "existing_dates = pd.Series(df['date'].unique())",
   "id": "9db7ee42066c9765",
   "outputs": [],
   "execution_count": 101
  },
  {
   "metadata": {
    "ExecuteTime": {
     "end_time": "2025-04-10T07:07:05.727210Z",
     "start_time": "2025-04-10T07:07:05.723852Z"
    }
   },
   "cell_type": "code",
   "source": [
    "start_range = datetime(2022, 2, 24)\n",
    "end_range = datetime(2025, 3, 1)"
   ],
   "id": "da5f2aa4fab6e247",
   "outputs": [],
   "execution_count": 102
  },
  {
   "metadata": {
    "ExecuteTime": {
     "end_time": "2025-04-10T07:07:06.355155Z",
     "start_time": "2025-04-10T07:07:06.351788Z"
    }
   },
   "cell_type": "code",
   "source": "full_range = pd.date_range(start=start_range, end=end_range, freq='D')",
   "id": "c5dd7c9d217923d4",
   "outputs": [],
   "execution_count": 103
  },
  {
   "metadata": {
    "ExecuteTime": {
     "end_time": "2025-04-10T07:07:06.828416Z",
     "start_time": "2025-04-10T07:07:06.824203Z"
    }
   },
   "cell_type": "code",
   "source": "missing_dates = full_range.difference(existing_dates)",
   "id": "73a2331f043d30e4",
   "outputs": [],
   "execution_count": 104
  },
  {
   "metadata": {
    "ExecuteTime": {
     "end_time": "2025-04-10T07:07:07.387806Z",
     "start_time": "2025-04-10T07:07:07.381799Z"
    }
   },
   "cell_type": "code",
   "source": [
    "# the isw_reports table covers all but ten of the existing dates from our analysis period.\n",
    "# a manual check confirms that reports for the following dates are not present on understandingwar.org\n",
    "# these values will be handled during the table merge\n",
    "\n",
    "missing_dates"
   ],
   "id": "9aeff2a008a339d8",
   "outputs": [
    {
     "data": {
      "text/plain": [
       "DatetimeIndex(['2022-11-24', '2022-12-25', '2023-01-01', '2023-11-23',\n",
       "               '2023-12-25', '2024-01-01', '2024-10-08', '2024-11-28',\n",
       "               '2024-12-25', '2025-01-01'],\n",
       "              dtype='datetime64[ns]', freq=None)"
      ]
     },
     "execution_count": 105,
     "metadata": {},
     "output_type": "execute_result"
    }
   ],
   "execution_count": 105
  },
  {
   "metadata": {},
   "cell_type": "code",
   "outputs": [],
   "execution_count": null,
   "source": [
    "\"\"\"\n",
    "DO NOT EXIST:\n",
    "Russian Offensive Campaign Assessment, November 24, 2022\n",
    "Russian Offensive Campaign Assessment, December 25, 2022\n",
    "Russian Offensive Campaign Assessment, January 1, 2023\n",
    "Russian Offensive Campaign Assessment, November 23, 2023\n",
    "Russian Offensive Campaign Assessment, December 25, 2023\n",
    "Russian Offensive Campaign Assessment, January 1, 2024\n",
    "Russian Offensive Campaign Assessment, October 8, 2024\n",
    "Russian Offensive Campaign Assessment, November 28, 2024\n",
    "Russian Offensive Campaign Assessment, December 25, 2024\n",
    "Russian Offensive Campaign Assessment, January 1, 2025\n",
    "\"\"\""
   ],
   "id": "f939ea7fead80b16"
  },
  {
   "metadata": {
    "ExecuteTime": {
     "end_time": "2025-04-10T07:07:10.249570Z",
     "start_time": "2025-04-10T07:07:10.245686Z"
    }
   },
   "cell_type": "code",
   "source": "# 2. VECTORISATION",
   "id": "81bbf1a4a6d3c715",
   "outputs": [],
   "execution_count": 106
  },
  {
   "metadata": {
    "ExecuteTime": {
     "end_time": "2025-04-10T06:54:07.203227Z",
     "start_time": "2025-04-10T06:54:02.293033Z"
    }
   },
   "cell_type": "code",
   "source": "nltk.download()",
   "id": "16ff4f40297c2dc5",
   "outputs": [
    {
     "name": "stdout",
     "output_type": "stream",
     "text": [
      "showing info https://raw.githubusercontent.com/nltk/nltk_data/gh-pages/index.xml\n"
     ]
    },
    {
     "data": {
      "text/plain": [
       "True"
      ]
     },
     "execution_count": 74,
     "metadata": {},
     "output_type": "execute_result"
    }
   ],
   "execution_count": 74
  },
  {
   "metadata": {
    "ExecuteTime": {
     "end_time": "2025-04-10T07:07:12.068813Z",
     "start_time": "2025-04-10T07:07:12.064703Z"
    }
   },
   "cell_type": "code",
   "source": "lemmatizer = WordNetLemmatizer()",
   "id": "df26ff777b58991c",
   "outputs": [],
   "execution_count": 107
  },
  {
   "metadata": {
    "ExecuteTime": {
     "end_time": "2025-04-10T07:07:12.872358Z",
     "start_time": "2025-04-10T07:07:12.862434Z"
    }
   },
   "cell_type": "code",
   "source": [
    "stop_words = set(stopwords.words('english'))\n",
    "custom_stops = {\n",
    "    # report metadata\n",
    "    'isw', 'report', 'assessment', 'update', 'backgrounder', 'pm', 'est',\n",
    "    'eet', 'local', 'time', 'et', 'key', 'takeaway', 'item', 'watch',\n",
    "    'click', 'map', 'interactive', 'see', 'figure', 'source', 'url', 'http',\n",
    "    'https', 'www', 'published', 'updated', 'accessed', 'twitter', 'telegram',\n",
    "    'note', 'isws', 'daily', 'reference', 'statement', 'backgrounder',\n",
    "\n",
    "    # generic time references\n",
    "    'january', 'february', 'march', 'april', 'may', 'june', 'july', 'august',\n",
    "    'september', 'october', 'november', 'december', 'monday', 'tuesday',\n",
    "    'wednesday', 'thursday', 'friday', 'saturday', 'sunday', 'day', 'week',\n",
    "    'month', 'year', 'hour', 'date', 'recent', 'recently', 'past', 'future',\n",
    "\n",
    "    # generic verbs\n",
    "    'include', 'including', 'also', 'may', 'provide', 'provides', 'provided',\n",
    "    'providing', 'conduct', 'conducts', 'conducted', 'conducting',\n",
    "    'continue', 'continues', 'continued', 'continuing', 'develop', 'develops',\n",
    "    'developed', 'developing', 'indicate', 'indicates', 'indicated',\n",
    "    'indicating', 'use', 'using', 'used', 'state', 'stated', 'claim', 'claimed',\n",
    "    'assess', 'assessed',\n",
    "\n",
    "    # generic nouns\n",
    "    'area', 'effort', 'system', 'process', 'part', 'level', 'type', 'way',\n",
    "    'situation', 'presence', 'resource', 'result', 'status', 'structure',\n",
    "    'support', 'basis', 'center', 'change', 'condition', 'facility',\n",
    "    'material', 'measure', 'member', 'number', 'order', 'percent',\n",
    "    'security', 'series', 'service', 'term', 'people', 'city', 'region',\n",
    "    'plan', 'objective', 'potential', 'capability', 'capacity',\n",
    "\n",
    "    # generic connectives\n",
    "    'however', 'unspecified', 'element', 'although', 'another', 'available',\n",
    "    'following', 'former', 'main', 'need', 'public', 'publicly', 'still',\n",
    "    'throughout', 'well', 'would', 'yet', 'ability', 'able', 'access',\n",
    "\n",
    "    # authors\n",
    "    'fredrick', 'kagan', 'george', 'barros', 'kateryna', 'katya',\n",
    "    'stepanenko', 'karolina', 'hird', 'mason', 'clark', 'frederick',\n",
    "    'grace', 'mappes', 'katherine', 'lawlor', 'frederick', 'layne',\n",
    "    'philipson', 'angela', 'howard', 'riley', 'bailey', 'nicole',\n",
    "    'wolkov', 'angelica', 'evans', 'christina', 'harward',\n",
    "}\n",
    "stop_words.update(custom_stops)"
   ],
   "id": "e6e9b1d46d5e5cc0",
   "outputs": [],
   "execution_count": 108
  },
  {
   "metadata": {
    "ExecuteTime": {
     "end_time": "2025-04-10T07:07:13.633045Z",
     "start_time": "2025-04-10T07:07:13.627041Z"
    }
   },
   "cell_type": "code",
   "source": [
    "def preprocess_text(text):\n",
    "    text = ftfy.fix_text(text)\n",
    "\n",
    "    # author line patterns\n",
    "    text = re.sub(r\"Russian Offensive Campaign Assessment,.*?\\d{1,2}:\\d{2}\\s*(?:am|pm)\\s*ET\", \"\", text, flags=re.IGNORECASE)\n",
    "    # common map links\n",
    "    text = re.sub(r\"Click here to see ISW’s interactive map.*?\\.\", \"\", text, flags=re.IGNORECASE)\n",
    "    # bracketed numbers\n",
    "    text = re.sub(r'\\[\\d+\\]', '', text)\n",
    "\n",
    "    text = text.lower()\n",
    "\n",
    "    # punctuation\n",
    "    text = re.sub(r'\\d+', '', text)\n",
    "    text = re.sub(r'[^\\w\\s-]', '', text)\n",
    "    text = re.sub(r'\\s-\\s|\\s-$|^-', ' ', text)\n",
    "\n",
    "    # tokenization\n",
    "    tokens = word_tokenize(text)\n",
    "\n",
    "    # lemmatization\n",
    "    processed_tokens = [\n",
    "        lemmatizer.lemmatize(word) for word in tokens\n",
    "        if word not in stop_words and len(word) > 2 and not word.startswith('-') and not word.endswith('-')\n",
    "    ]\n",
    "\n",
    "    return ' '.join(processed_tokens)"
   ],
   "id": "bca39877cdadfea1",
   "outputs": [],
   "execution_count": 109
  },
  {
   "metadata": {
    "ExecuteTime": {
     "end_time": "2025-04-10T07:08:12.521568Z",
     "start_time": "2025-04-10T07:07:14.443169Z"
    }
   },
   "cell_type": "code",
   "source": "df['processed_text'] = df['report_text'].apply(preprocess_text)",
   "id": "f231837838d4002d",
   "outputs": [],
   "execution_count": 110
  },
  {
   "metadata": {
    "ExecuteTime": {
     "end_time": "2025-04-10T07:09:00.592615Z",
     "start_time": "2025-04-10T07:09:00.585677Z"
    }
   },
   "cell_type": "code",
   "source": "df['processed_text']",
   "id": "d5b37c85fb386c72",
   "outputs": [
    {
     "data": {
      "text/plain": [
       "0       russian president vladimir putin began large-s...\n",
       "1       russian force entered major ukrainian citiesin...\n",
       "2       russian force ax advance last hour focused kyi...\n",
       "3       russian military likely recognized initial exp...\n",
       "4       russian military reorganizing military effort ...\n",
       "                              ...                        \n",
       "1087    russian invasion ukraine alongside static map ...\n",
       "1088    russian offensive campaign davit gasparyan rus...\n",
       "1089    russian invasion ukraine alongside static map ...\n",
       "1090    russian invasion ukraine alongside static map ...\n",
       "1091    russian invasion ukraine alongside static map ...\n",
       "Name: processed_text, Length: 1092, dtype: object"
      ]
     },
     "execution_count": 111,
     "metadata": {},
     "output_type": "execute_result"
    }
   ],
   "execution_count": 111
  },
  {
   "metadata": {
    "ExecuteTime": {
     "end_time": "2025-04-10T07:09:14.694972Z",
     "start_time": "2025-04-10T07:09:09.672640Z"
    }
   },
   "cell_type": "code",
   "source": [
    "# optimal values based on the analysis of the resulting vectorised data.\n",
    "tfidf_vectorizer = TfidfVectorizer(\n",
    "    ngram_range=(1, 2),\n",
    "    max_df=0.80,\n",
    "    min_df=5,\n",
    "    max_features=10000,\n",
    "    sublinear_tf=True\n",
    ")\n",
    "\n",
    "tfidf_matrix = tfidf_vectorizer.fit_transform(df['processed_text'])"
   ],
   "id": "56fdbfb309860ae1",
   "outputs": [],
   "execution_count": 112
  },
  {
   "metadata": {
    "ExecuteTime": {
     "end_time": "2025-04-10T07:09:18.567242Z",
     "start_time": "2025-04-10T07:09:16.407312Z"
    }
   },
   "cell_type": "code",
   "source": [
    "# initially we tended to use fewer max_features and not use TruncatedSVD, but it caused memory problems\n",
    "# when working with a merged dataset. to solve this problem we decided to use TruncatedSVD,\n",
    "# and to cover the potential loss of information with the increased the number of max_features\n",
    "\n",
    "n_components = 150\n",
    "svd = TruncatedSVD(n_components=n_components) # random_state=1\n",
    "tfidf_svd_matrix_dense = svd.fit_transform(tfidf_matrix)"
   ],
   "id": "17695719e7abfd29",
   "outputs": [],
   "execution_count": 113
  },
  {
   "metadata": {
    "ExecuteTime": {
     "end_time": "2025-04-10T07:09:27.096981Z",
     "start_time": "2025-04-10T07:09:27.040571Z"
    }
   },
   "cell_type": "code",
   "source": [
    "with open('tfidf_vectorizer.pkl', 'wb') as f_tfidf:\n",
    "    pickle.dump(tfidf_vectorizer, f_tfidf)\n",
    "\n",
    "with open('svd_reducer.pkl', 'wb') as f_svd:\n",
    "    pickle.dump(svd, f_svd)"
   ],
   "id": "c502aafd22cedae4",
   "outputs": [],
   "execution_count": 114
  },
  {
   "metadata": {
    "ExecuteTime": {
     "end_time": "2025-04-10T07:09:28.769687Z",
     "start_time": "2025-04-10T07:09:28.764685Z"
    }
   },
   "cell_type": "code",
   "source": [
    "svd_feature_names = [f'svd_comp_{i+1}' for i in range(n_components)]\n",
    "df_tfidf_svd = pd.DataFrame(tfidf_svd_matrix_dense, columns=svd_feature_names, index=df.index)"
   ],
   "id": "d77fe89d16f27593",
   "outputs": [],
   "execution_count": 115
  },
  {
   "metadata": {
    "ExecuteTime": {
     "end_time": "2025-04-10T07:09:30.141406Z",
     "start_time": "2025-04-10T07:09:30.135149Z"
    }
   },
   "cell_type": "code",
   "source": [
    "df_tfidf_svd['date'] = df['date']\n",
    "date_col = df_tfidf_svd.pop('date') # make the 'date' column appear first\n",
    "df_tfidf_svd.insert(0, 'date', date_col)"
   ],
   "id": "a9983595a61172f6",
   "outputs": [],
   "execution_count": 116
  },
  {
   "metadata": {
    "ExecuteTime": {
     "end_time": "2025-04-10T07:09:31.940513Z",
     "start_time": "2025-04-10T07:09:31.917257Z"
    }
   },
   "cell_type": "code",
   "source": "df_tfidf_svd",
   "id": "1ed03c7937ab5302",
   "outputs": [
    {
     "data": {
      "text/plain": [
       "           date  svd_comp_1  svd_comp_2  svd_comp_3  svd_comp_4  svd_comp_5  \\\n",
       "0    2022-02-24    0.231406    0.113453    0.127448    0.105655    0.128726   \n",
       "1    2022-02-25    0.236842    0.122241    0.135436    0.100210    0.141044   \n",
       "2    2022-02-26    0.252856    0.157072    0.168624    0.109284    0.152090   \n",
       "3    2022-02-27    0.250906    0.152892    0.178549    0.118152    0.157456   \n",
       "4    2022-02-28    0.248396    0.147887    0.166173    0.111112    0.131580   \n",
       "...         ...         ...         ...         ...         ...         ...   \n",
       "1087 2025-02-25    0.434699   -0.290698    0.137020   -0.134252    0.054225   \n",
       "1088 2025-02-26    0.406357   -0.273944    0.157600   -0.161494    0.059594   \n",
       "1089 2025-02-27    0.407333   -0.311196    0.182906   -0.172292    0.098146   \n",
       "1090 2025-02-28    0.434414   -0.296324    0.159768   -0.159307    0.075228   \n",
       "1091 2025-03-01    0.412409   -0.259277    0.150235   -0.118589    0.048198   \n",
       "\n",
       "      svd_comp_6  svd_comp_7  svd_comp_8  svd_comp_9  ...  svd_comp_141  \\\n",
       "0       0.172093   -0.113485   -0.079844   -0.158733  ...     -0.036413   \n",
       "1       0.175319   -0.151957   -0.089340   -0.171017  ...      0.000529   \n",
       "2       0.220771   -0.161296   -0.093684   -0.186725  ...      0.004067   \n",
       "3       0.206573   -0.144489   -0.102788   -0.180502  ...      0.029428   \n",
       "4       0.198621   -0.111919   -0.079716   -0.175104  ...     -0.007494   \n",
       "...          ...         ...         ...         ...  ...           ...   \n",
       "1087   -0.001801   -0.071009    0.194973   -0.013816  ...     -0.007506   \n",
       "1088    0.004037   -0.081583    0.239852   -0.024772  ...     -0.002012   \n",
       "1089   -0.002363   -0.102321    0.238852   -0.010877  ...      0.030724   \n",
       "1090   -0.005174   -0.057242    0.169707   -0.010135  ...     -0.001739   \n",
       "1091    0.027090   -0.059388    0.197690   -0.028902  ...      0.002782   \n",
       "\n",
       "      svd_comp_142  svd_comp_143  svd_comp_144  svd_comp_145  svd_comp_146  \\\n",
       "0         0.026344     -0.005851     -0.027000     -0.005885      0.027045   \n",
       "1         0.016313     -0.012013     -0.018154     -0.026495      0.022813   \n",
       "2        -0.025538      0.013086     -0.042489      0.011772     -0.003432   \n",
       "3        -0.009811      0.027759     -0.030727     -0.007179     -0.026978   \n",
       "4        -0.051478      0.045730      0.009817      0.012191     -0.053523   \n",
       "...            ...           ...           ...           ...           ...   \n",
       "1087     -0.024911     -0.029233      0.013226      0.013393     -0.026268   \n",
       "1088     -0.003368     -0.039393      0.005027     -0.001091      0.017131   \n",
       "1089      0.018139     -0.024595     -0.011180      0.005215      0.003520   \n",
       "1090      0.016067     -0.045708      0.016310      0.002560     -0.026677   \n",
       "1091      0.032773      0.009381      0.009542      0.011265     -0.012766   \n",
       "\n",
       "      svd_comp_147  svd_comp_148  svd_comp_149  svd_comp_150  \n",
       "0        -0.031285      0.051623      0.007152      0.016031  \n",
       "1        -0.045699      0.039631     -0.003964      0.005916  \n",
       "2        -0.018679     -0.020046     -0.003864     -0.006122  \n",
       "3         0.012720     -0.041540      0.013072     -0.005067  \n",
       "4         0.011049     -0.015222     -0.034729     -0.014278  \n",
       "...            ...           ...           ...           ...  \n",
       "1087     -0.004354      0.026317      0.012937     -0.016769  \n",
       "1088      0.040327      0.031117     -0.000931     -0.014690  \n",
       "1089      0.021557     -0.008575     -0.032183     -0.014421  \n",
       "1090     -0.005022     -0.008501     -0.042639     -0.025572  \n",
       "1091      0.002189      0.026272     -0.007613     -0.013704  \n",
       "\n",
       "[1092 rows x 151 columns]"
      ],
      "text/html": [
       "<div>\n",
       "<style scoped>\n",
       "    .dataframe tbody tr th:only-of-type {\n",
       "        vertical-align: middle;\n",
       "    }\n",
       "\n",
       "    .dataframe tbody tr th {\n",
       "        vertical-align: top;\n",
       "    }\n",
       "\n",
       "    .dataframe thead th {\n",
       "        text-align: right;\n",
       "    }\n",
       "</style>\n",
       "<table border=\"1\" class=\"dataframe\">\n",
       "  <thead>\n",
       "    <tr style=\"text-align: right;\">\n",
       "      <th></th>\n",
       "      <th>date</th>\n",
       "      <th>svd_comp_1</th>\n",
       "      <th>svd_comp_2</th>\n",
       "      <th>svd_comp_3</th>\n",
       "      <th>svd_comp_4</th>\n",
       "      <th>svd_comp_5</th>\n",
       "      <th>svd_comp_6</th>\n",
       "      <th>svd_comp_7</th>\n",
       "      <th>svd_comp_8</th>\n",
       "      <th>svd_comp_9</th>\n",
       "      <th>...</th>\n",
       "      <th>svd_comp_141</th>\n",
       "      <th>svd_comp_142</th>\n",
       "      <th>svd_comp_143</th>\n",
       "      <th>svd_comp_144</th>\n",
       "      <th>svd_comp_145</th>\n",
       "      <th>svd_comp_146</th>\n",
       "      <th>svd_comp_147</th>\n",
       "      <th>svd_comp_148</th>\n",
       "      <th>svd_comp_149</th>\n",
       "      <th>svd_comp_150</th>\n",
       "    </tr>\n",
       "  </thead>\n",
       "  <tbody>\n",
       "    <tr>\n",
       "      <th>0</th>\n",
       "      <td>2022-02-24</td>\n",
       "      <td>0.231406</td>\n",
       "      <td>0.113453</td>\n",
       "      <td>0.127448</td>\n",
       "      <td>0.105655</td>\n",
       "      <td>0.128726</td>\n",
       "      <td>0.172093</td>\n",
       "      <td>-0.113485</td>\n",
       "      <td>-0.079844</td>\n",
       "      <td>-0.158733</td>\n",
       "      <td>...</td>\n",
       "      <td>-0.036413</td>\n",
       "      <td>0.026344</td>\n",
       "      <td>-0.005851</td>\n",
       "      <td>-0.027000</td>\n",
       "      <td>-0.005885</td>\n",
       "      <td>0.027045</td>\n",
       "      <td>-0.031285</td>\n",
       "      <td>0.051623</td>\n",
       "      <td>0.007152</td>\n",
       "      <td>0.016031</td>\n",
       "    </tr>\n",
       "    <tr>\n",
       "      <th>1</th>\n",
       "      <td>2022-02-25</td>\n",
       "      <td>0.236842</td>\n",
       "      <td>0.122241</td>\n",
       "      <td>0.135436</td>\n",
       "      <td>0.100210</td>\n",
       "      <td>0.141044</td>\n",
       "      <td>0.175319</td>\n",
       "      <td>-0.151957</td>\n",
       "      <td>-0.089340</td>\n",
       "      <td>-0.171017</td>\n",
       "      <td>...</td>\n",
       "      <td>0.000529</td>\n",
       "      <td>0.016313</td>\n",
       "      <td>-0.012013</td>\n",
       "      <td>-0.018154</td>\n",
       "      <td>-0.026495</td>\n",
       "      <td>0.022813</td>\n",
       "      <td>-0.045699</td>\n",
       "      <td>0.039631</td>\n",
       "      <td>-0.003964</td>\n",
       "      <td>0.005916</td>\n",
       "    </tr>\n",
       "    <tr>\n",
       "      <th>2</th>\n",
       "      <td>2022-02-26</td>\n",
       "      <td>0.252856</td>\n",
       "      <td>0.157072</td>\n",
       "      <td>0.168624</td>\n",
       "      <td>0.109284</td>\n",
       "      <td>0.152090</td>\n",
       "      <td>0.220771</td>\n",
       "      <td>-0.161296</td>\n",
       "      <td>-0.093684</td>\n",
       "      <td>-0.186725</td>\n",
       "      <td>...</td>\n",
       "      <td>0.004067</td>\n",
       "      <td>-0.025538</td>\n",
       "      <td>0.013086</td>\n",
       "      <td>-0.042489</td>\n",
       "      <td>0.011772</td>\n",
       "      <td>-0.003432</td>\n",
       "      <td>-0.018679</td>\n",
       "      <td>-0.020046</td>\n",
       "      <td>-0.003864</td>\n",
       "      <td>-0.006122</td>\n",
       "    </tr>\n",
       "    <tr>\n",
       "      <th>3</th>\n",
       "      <td>2022-02-27</td>\n",
       "      <td>0.250906</td>\n",
       "      <td>0.152892</td>\n",
       "      <td>0.178549</td>\n",
       "      <td>0.118152</td>\n",
       "      <td>0.157456</td>\n",
       "      <td>0.206573</td>\n",
       "      <td>-0.144489</td>\n",
       "      <td>-0.102788</td>\n",
       "      <td>-0.180502</td>\n",
       "      <td>...</td>\n",
       "      <td>0.029428</td>\n",
       "      <td>-0.009811</td>\n",
       "      <td>0.027759</td>\n",
       "      <td>-0.030727</td>\n",
       "      <td>-0.007179</td>\n",
       "      <td>-0.026978</td>\n",
       "      <td>0.012720</td>\n",
       "      <td>-0.041540</td>\n",
       "      <td>0.013072</td>\n",
       "      <td>-0.005067</td>\n",
       "    </tr>\n",
       "    <tr>\n",
       "      <th>4</th>\n",
       "      <td>2022-02-28</td>\n",
       "      <td>0.248396</td>\n",
       "      <td>0.147887</td>\n",
       "      <td>0.166173</td>\n",
       "      <td>0.111112</td>\n",
       "      <td>0.131580</td>\n",
       "      <td>0.198621</td>\n",
       "      <td>-0.111919</td>\n",
       "      <td>-0.079716</td>\n",
       "      <td>-0.175104</td>\n",
       "      <td>...</td>\n",
       "      <td>-0.007494</td>\n",
       "      <td>-0.051478</td>\n",
       "      <td>0.045730</td>\n",
       "      <td>0.009817</td>\n",
       "      <td>0.012191</td>\n",
       "      <td>-0.053523</td>\n",
       "      <td>0.011049</td>\n",
       "      <td>-0.015222</td>\n",
       "      <td>-0.034729</td>\n",
       "      <td>-0.014278</td>\n",
       "    </tr>\n",
       "    <tr>\n",
       "      <th>...</th>\n",
       "      <td>...</td>\n",
       "      <td>...</td>\n",
       "      <td>...</td>\n",
       "      <td>...</td>\n",
       "      <td>...</td>\n",
       "      <td>...</td>\n",
       "      <td>...</td>\n",
       "      <td>...</td>\n",
       "      <td>...</td>\n",
       "      <td>...</td>\n",
       "      <td>...</td>\n",
       "      <td>...</td>\n",
       "      <td>...</td>\n",
       "      <td>...</td>\n",
       "      <td>...</td>\n",
       "      <td>...</td>\n",
       "      <td>...</td>\n",
       "      <td>...</td>\n",
       "      <td>...</td>\n",
       "      <td>...</td>\n",
       "      <td>...</td>\n",
       "    </tr>\n",
       "    <tr>\n",
       "      <th>1087</th>\n",
       "      <td>2025-02-25</td>\n",
       "      <td>0.434699</td>\n",
       "      <td>-0.290698</td>\n",
       "      <td>0.137020</td>\n",
       "      <td>-0.134252</td>\n",
       "      <td>0.054225</td>\n",
       "      <td>-0.001801</td>\n",
       "      <td>-0.071009</td>\n",
       "      <td>0.194973</td>\n",
       "      <td>-0.013816</td>\n",
       "      <td>...</td>\n",
       "      <td>-0.007506</td>\n",
       "      <td>-0.024911</td>\n",
       "      <td>-0.029233</td>\n",
       "      <td>0.013226</td>\n",
       "      <td>0.013393</td>\n",
       "      <td>-0.026268</td>\n",
       "      <td>-0.004354</td>\n",
       "      <td>0.026317</td>\n",
       "      <td>0.012937</td>\n",
       "      <td>-0.016769</td>\n",
       "    </tr>\n",
       "    <tr>\n",
       "      <th>1088</th>\n",
       "      <td>2025-02-26</td>\n",
       "      <td>0.406357</td>\n",
       "      <td>-0.273944</td>\n",
       "      <td>0.157600</td>\n",
       "      <td>-0.161494</td>\n",
       "      <td>0.059594</td>\n",
       "      <td>0.004037</td>\n",
       "      <td>-0.081583</td>\n",
       "      <td>0.239852</td>\n",
       "      <td>-0.024772</td>\n",
       "      <td>...</td>\n",
       "      <td>-0.002012</td>\n",
       "      <td>-0.003368</td>\n",
       "      <td>-0.039393</td>\n",
       "      <td>0.005027</td>\n",
       "      <td>-0.001091</td>\n",
       "      <td>0.017131</td>\n",
       "      <td>0.040327</td>\n",
       "      <td>0.031117</td>\n",
       "      <td>-0.000931</td>\n",
       "      <td>-0.014690</td>\n",
       "    </tr>\n",
       "    <tr>\n",
       "      <th>1089</th>\n",
       "      <td>2025-02-27</td>\n",
       "      <td>0.407333</td>\n",
       "      <td>-0.311196</td>\n",
       "      <td>0.182906</td>\n",
       "      <td>-0.172292</td>\n",
       "      <td>0.098146</td>\n",
       "      <td>-0.002363</td>\n",
       "      <td>-0.102321</td>\n",
       "      <td>0.238852</td>\n",
       "      <td>-0.010877</td>\n",
       "      <td>...</td>\n",
       "      <td>0.030724</td>\n",
       "      <td>0.018139</td>\n",
       "      <td>-0.024595</td>\n",
       "      <td>-0.011180</td>\n",
       "      <td>0.005215</td>\n",
       "      <td>0.003520</td>\n",
       "      <td>0.021557</td>\n",
       "      <td>-0.008575</td>\n",
       "      <td>-0.032183</td>\n",
       "      <td>-0.014421</td>\n",
       "    </tr>\n",
       "    <tr>\n",
       "      <th>1090</th>\n",
       "      <td>2025-02-28</td>\n",
       "      <td>0.434414</td>\n",
       "      <td>-0.296324</td>\n",
       "      <td>0.159768</td>\n",
       "      <td>-0.159307</td>\n",
       "      <td>0.075228</td>\n",
       "      <td>-0.005174</td>\n",
       "      <td>-0.057242</td>\n",
       "      <td>0.169707</td>\n",
       "      <td>-0.010135</td>\n",
       "      <td>...</td>\n",
       "      <td>-0.001739</td>\n",
       "      <td>0.016067</td>\n",
       "      <td>-0.045708</td>\n",
       "      <td>0.016310</td>\n",
       "      <td>0.002560</td>\n",
       "      <td>-0.026677</td>\n",
       "      <td>-0.005022</td>\n",
       "      <td>-0.008501</td>\n",
       "      <td>-0.042639</td>\n",
       "      <td>-0.025572</td>\n",
       "    </tr>\n",
       "    <tr>\n",
       "      <th>1091</th>\n",
       "      <td>2025-03-01</td>\n",
       "      <td>0.412409</td>\n",
       "      <td>-0.259277</td>\n",
       "      <td>0.150235</td>\n",
       "      <td>-0.118589</td>\n",
       "      <td>0.048198</td>\n",
       "      <td>0.027090</td>\n",
       "      <td>-0.059388</td>\n",
       "      <td>0.197690</td>\n",
       "      <td>-0.028902</td>\n",
       "      <td>...</td>\n",
       "      <td>0.002782</td>\n",
       "      <td>0.032773</td>\n",
       "      <td>0.009381</td>\n",
       "      <td>0.009542</td>\n",
       "      <td>0.011265</td>\n",
       "      <td>-0.012766</td>\n",
       "      <td>0.002189</td>\n",
       "      <td>0.026272</td>\n",
       "      <td>-0.007613</td>\n",
       "      <td>-0.013704</td>\n",
       "    </tr>\n",
       "  </tbody>\n",
       "</table>\n",
       "<p>1092 rows × 151 columns</p>\n",
       "</div>"
      ]
     },
     "execution_count": 117,
     "metadata": {},
     "output_type": "execute_result"
    }
   ],
   "execution_count": 117
  },
  {
   "metadata": {
    "ExecuteTime": {
     "end_time": "2025-04-10T07:09:40.353407Z",
     "start_time": "2025-04-10T07:09:40.127686Z"
    }
   },
   "cell_type": "code",
   "source": "df_tfidf_svd.to_csv('isw_reports_prepared.csv', index=False)",
   "id": "c7f2226147d39b21",
   "outputs": [],
   "execution_count": 118
  },
  {
   "metadata": {},
   "cell_type": "code",
   "outputs": [],
   "execution_count": null,
   "source": "",
   "id": "611297201df3a2ac"
  }
 ],
 "metadata": {
  "kernelspec": {
   "display_name": "Python 3",
   "language": "python",
   "name": "python3"
  },
  "language_info": {
   "codemirror_mode": {
    "name": "ipython",
    "version": 2
   },
   "file_extension": ".py",
   "mimetype": "text/x-python",
   "name": "python",
   "nbconvert_exporter": "python",
   "pygments_lexer": "ipython2",
   "version": "2.7.6"
  }
 },
 "nbformat": 4,
 "nbformat_minor": 5
}
